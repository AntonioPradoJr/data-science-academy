{
 "cells": [
  {
   "cell_type": "code",
   "execution_count": 4,
   "id": "e466ae7d",
   "metadata": {},
   "outputs": [
    {
     "name": "stdout",
     "output_type": "stream",
     "text": [
      "[3, 6, 12, 7]\n",
      "[3, 6, 7, 12]\n"
     ]
    }
   ],
   "source": [
    "list = [6, 3, 12, 7]\n",
    "\n",
    "len_list = len(list)\n",
    "\n",
    "for n in range(len_list):    \n",
    "    for j in range(0, len_list - n - 1 ):        \n",
    "        if list[j] > list[j+1]:\n",
    "            list[j],list[j+1] = list[j+1],list[j] \n",
    "\n",
    "            print(list)\n"
   ]
  }
 ],
 "metadata": {
  "kernelspec": {
   "display_name": "3.13.3",
   "language": "python",
   "name": "python3"
  },
  "language_info": {
   "codemirror_mode": {
    "name": "ipython",
    "version": 3
   },
   "file_extension": ".py",
   "mimetype": "text/x-python",
   "name": "python",
   "nbconvert_exporter": "python",
   "pygments_lexer": "ipython3",
   "version": "3.13.3"
  }
 },
 "nbformat": 4,
 "nbformat_minor": 5
}
