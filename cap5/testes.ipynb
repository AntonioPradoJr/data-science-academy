{
 "cells": [
  {
   "cell_type": "code",
   "execution_count": 3,
   "id": "4303aad8",
   "metadata": {},
   "outputs": [
    {
     "name": "stdout",
     "output_type": "stream",
     "text": [
      "74\n"
     ]
    }
   ],
   "source": [
    "list1 = [2, 4, 5, 6, 8]\n",
    "list2 = [4, 8, 12, 30, 5]\n",
    "soma = 0\n",
    "\n",
    "for lists in [list1, list2]:\n",
    "    \n",
    "    for num in lists:\n",
    "        if num %2 ==0:\n",
    "            soma += num\n",
    "print(soma)"
   ]
  },
  {
   "cell_type": "code",
   "execution_count": 6,
   "id": "f2ecb912",
   "metadata": {},
   "outputs": [
    {
     "name": "stdout",
     "output_type": "stream",
     "text": [
      "243\n"
     ]
    }
   ],
   "source": [
    "matriz = [[3, 4, 10], [12, 69, 45], [84, 34, 243]]\n",
    "maior_num = 0\n",
    "\n",
    "for lista in matriz:\n",
    "    for num in lista:\n",
    "        if num > maior_num:\n",
    "            maior_num = num\n",
    "print(maior_num)"
   ]
  },
  {
   "cell_type": "code",
   "execution_count": 11,
   "id": "672d58cb",
   "metadata": {},
   "outputs": [
    {
     "name": "stdout",
     "output_type": "stream",
     "text": [
      "name Prado\n",
      "age 33\n",
      "nickname Pradin\n",
      "job Engg\n"
     ]
    }
   ],
   "source": [
    "#Listar chaves de um dicionario\n",
    "\n",
    "dict1 = {\n",
    "    'name': 'Prado',\n",
    "    'age': '33',\n",
    "    'nickname' : 'Pradin',\n",
    "    'job' : 'Engg'\n",
    "}\n",
    "\n",
    "for key, value in dict1.items():\n",
    "    print(key,value)"
   ]
  },
  {
   "cell_type": "code",
   "execution_count": null,
   "id": "5f910b84",
   "metadata": {},
   "outputs": [
    {
     "data": {
      "text/plain": [
       "[0, 1, 2, 3, 4, 5, 6, 7, 8, 9]"
      ]
     },
     "execution_count": 14,
     "metadata": {},
     "output_type": "execute_result"
    }
   ],
   "source": [
    "[x for x in range(10)]\n"
   ]
  },
  {
   "cell_type": "code",
   "execution_count": null,
   "id": "8971e378",
   "metadata": {},
   "outputs": [
    {
     "name": "stdout",
     "output_type": "stream",
     "text": [
      "[0, 1, 2, 3, 4, 5, 6, 7, 8, 9]\n",
      "[0, 1, 2, 3, 4]\n"
     ]
    }
   ],
   "source": [
    "list1 = list(range(0,10))\n",
    "print(list1)\n",
    "new = []\n",
    "for x in list1:\n",
    "    if x < 5:\n",
    "        new.append(x)\n",
    "print(new)\n",
    "\n",
    "[x for x in range(0,10) if x <5]"
   ]
  },
  {
   "cell_type": "code",
   "execution_count": null,
   "id": "6960bfdd",
   "metadata": {},
   "outputs": [],
   "source": []
  }
 ],
 "metadata": {
  "kernelspec": {
   "display_name": "3.13.3",
   "language": "python",
   "name": "python3"
  },
  "language_info": {
   "codemirror_mode": {
    "name": "ipython",
    "version": 3
   },
   "file_extension": ".py",
   "mimetype": "text/x-python",
   "name": "python",
   "nbconvert_exporter": "python",
   "pygments_lexer": "ipython3",
   "version": "3.13.3"
  }
 },
 "nbformat": 4,
 "nbformat_minor": 5
}
